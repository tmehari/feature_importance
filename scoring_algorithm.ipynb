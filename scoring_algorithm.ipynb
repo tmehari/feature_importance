{
 "cells": [
  {
   "cell_type": "code",
   "execution_count": null,
   "id": "fd0e3134",
   "metadata": {},
   "outputs": [],
   "source": [
    "import numpy as np \n",
    "import pandas as pd\n",
    "import os\n",
    "import glob\n",
    "from os.path import join\n",
    "import pdb\n",
    "from collections import defaultdict"
   ]
  },
  {
   "cell_type": "code",
   "execution_count": null,
   "id": "b11a5fc9",
   "metadata": {},
   "outputs": [],
   "source": [
    "# OUTPUT_DIRS=['./output1']\n",
    "# if you executed more than one run, just add the other directories to the list :\n",
    "OUTPUT_DIRS=['./output1', './output2', './output3', './output4', './output5']\n",
    "# the tables below report mean and std over the runs"
   ]
  },
  {
   "cell_type": "code",
   "execution_count": null,
   "id": "50118f94",
   "metadata": {},
   "outputs": [],
   "source": [
    "OUTPUT_DIR=OUTPUT_DIRS[0]\n",
    "AVBLOCK_AUCS_FILE=join(OUTPUT_DIR, 'binary_avblock_rocaucs_values.csv')\n",
    "AVBLOCK_MODAUCS_FILE=join(OUTPUT_DIR, 'binary_avblock_modrocaucs_values.csv')\n",
    "LBBB_AUCS_FILE=join(OUTPUT_DIR, 'binary_lbbb_rocaucs_values.csv')\n",
    "LBBB_MODAUCS_FILE=join(OUTPUT_DIR, 'binary_lbbb_modrocaucs_values.csv')\n",
    "RBBB_AUCS_FILE=join(OUTPUT_DIR, 'binary_rbbb_rocaucs_values.csv')\n",
    "RBBB_MODAUCS_FILE=join(OUTPUT_DIR, 'binary_rbbb_modrocaucs_values.csv')"
   ]
  },
  {
   "cell_type": "code",
   "execution_count": null,
   "id": "c51254f3",
   "metadata": {},
   "outputs": [],
   "source": [
    "AVBLOCK_IMPORTANT_FEATURES = ['Int_PR_Interval']\n",
    "AVBLOCK_NON_DISCRIMINATING_FEATURES = ['ILM_S_Amp_I', 'ILM_S_Amp_V2']"
   ]
  },
  {
   "cell_type": "code",
   "execution_count": null,
   "id": "d306eab0",
   "metadata": {},
   "outputs": [],
   "source": [
    "RBBB_IMPORTANT_FEATURES = ['OnOff_QRS_Duration', 'ILM_R_Amp_V1', 'ILM_R__Amp_V1',\n",
    "                           'ILM_S_Amp_I', 'ILM_S_Amp_aVL', 'ILM_S_Amp_V1', 'ILM_S_Amp_V6']\n",
    "RBBB_IMPORTANT_FEATURES_W_CORR = RBBB_IMPORTANT_FEATURES + ['ILM_R__Amp_V5', 'ILM_S_Amp_V5', 'ILM_P2P_Amp_V1']\n",
    "RBBB_NON_DISCRIMINATING_FEATURES = ['ILM_R__Amp_I', 'ILM_R__Amp_V6']"
   ]
  },
  {
   "cell_type": "code",
   "execution_count": null,
   "id": "e8997afe",
   "metadata": {},
   "outputs": [],
   "source": [
    "LBBB_IMPORTANT_FEATURES = ['OnOff_QRS_Duration', 'ILM_Q_Amp_V1',\n",
    "                           'ILM_R_Amp_I','ILM_R_Amp_aVL', 'ILM_R_Amp_V5', 'ILM_R_Amp_V6',\n",
    "                           'ILM_R__Amp_I','ILM_R__Amp_aVL', 'ILM_R__Amp_V5', 'ILM_R__Amp_V6',\n",
    "                           'ILM_S_Amp_I','ILM_S_Amp_aVL', 'ILM_S_Amp_V5', 'ILM_S_Amp_V6']\n",
    "\n",
    "LBBB_IMPORTANT_FEATURES_W_CORR = LBBB_IMPORTANT_FEATURES + \\\n",
    "['ILM_Q_Amp_V4', 'ILM_S_Amp_V3', 'ILM_T__Amp_V1', 'ILM_ST_Slope_I','ILM_ST_Slope_V1','ILM_ST_Slope_V6', \n",
    "'Int_ST_Duration', 'ILM_T_Morph_I', 'ILM_T_Morph_aVR','ILM_T_Morph_V6', 'ILM_P2P_Amp_V1', 'ILM_T__Amp_V1', \n",
    "'ILM_P2P_Amp_I', 'ILM_P2P_Amp_I', 'ILM_P2P_Amp_aVL', 'ILM_Q_Amp_III', 'ILM_Q_Amp_aVF', 'ILM_S_Amp_III', \n",
    "'GM_QrsFrontalAxis', 'ILM_P2P_Amp_V5', 'ILM_P2P_Amp_V6', 'ILM_R_Amp_V4', 'ILM_P2P_Amp_V5', 'ILM_P2P_Amp_V6',\n",
    "'ILM_P2P_Amp_aVL', 'ILM_P2P_Amp_aVL', 'ILM_S_Amp_II', 'ILM_S_Amp_III', 'ILM_S_Amp_aVF',\n",
    " 'ILM_R__Amp_aVR', 'ILM_T__Amp_aVR',\n",
    "'ILM_R_Amp_III', 'ILM_R__Amp_II', 'ILM_R__Amp_III', 'ILM_R__Amp_V1']\n",
    "\n",
    "LBBB_IMPORTANT_FEATURES_W_CORR = set(LBBB_IMPORTANT_FEATURES_W_CORR)\n",
    "\n",
    "LBBB_NON_DISCRIMINATING_FEATURES = ['ILM_R_Amp_I', 'ILM_R__Amp_V6']"
   ]
  },
  {
   "cell_type": "code",
   "execution_count": null,
   "id": "5a4e5f7c",
   "metadata": {},
   "outputs": [],
   "source": [
    "def get_top5_feats(file):\n",
    "    try:\n",
    "        return pd.read_csv(file)['Feature'][:5].values\n",
    "    except:\n",
    "        print(file)\n",
    "def top5score(file, important_features):\n",
    "    features = get_top5_feats(file)\n",
    "    n = len(features)\n",
    "    weights = np.arange(1, n+1)[::-1]/(n*(n+1)/2/100)\n",
    "    occurence = np.array([float(feature in important_features) for feature in features])\n",
    "    return int((weights @ occurence) + 0.5)"
   ]
  },
  {
   "cell_type": "code",
   "execution_count": null,
   "id": "ba750c7e",
   "metadata": {},
   "outputs": [],
   "source": [
    "def table_v_fetch(file, important_features, non_discriminative_features):\n",
    "    df = pd.read_csv(file)\n",
    "    # print(file)\n",
    "    feature_ranking = df['Feature'].values\n",
    "    important_features_ranking = [np.where(feature_ranking == ifeat)[0][0]+1 for ifeat in important_features]\n",
    "    nondiscriminative_features_ranking = [np.where(feature_ranking == ndfeat)[0][0]+1 for ndfeat in non_discriminative_features]\n",
    "    return [important_features_ranking, nondiscriminative_features_ranking]"
   ]
  },
  {
   "cell_type": "code",
   "execution_count": null,
   "id": "7c7005a6",
   "metadata": {},
   "outputs": [],
   "source": [
    "def feat_status(feature, important_feats, corr_feats):\n",
    "    if feature in important_feats:\n",
    "        return \"Important\"\n",
    "    elif corr_feats is not None and feature in corr_feats:\n",
    "        return \"Correlated\"\n",
    "    return \"Unimportant\""
   ]
  },
  {
   "cell_type": "code",
   "execution_count": null,
   "id": "a9b07666",
   "metadata": {},
   "outputs": [],
   "source": [
    "def get_top5s(files, files_key, important_feats, corr_feats, rocaucs, modrocaucs, n=5):\n",
    "    fetched_files = fetch_files(files, files_key)\n",
    "    top5s = dict(zip(rocaucs.keys(), np.zeros(len(rocaucs))))\n",
    "    for file in fetched_files:\n",
    "        top5_feats = list(get_top5_feats(file))\n",
    "        for feat in top5_feats:\n",
    "            top5s[feat] += 1\n",
    "    return top5s"
   ]
  },
  {
   "cell_type": "code",
   "execution_count": null,
   "id": "282590cc",
   "metadata": {},
   "outputs": [],
   "source": [
    "def get_frequency_of_topn(top5_features_per_run, important_feats, corr_feats, rocaucs, modrocaucs, n=5):    \n",
    "    # Initialize the resulting dictionary of lists\n",
    "    aggregated_top5s = {key: [] for key in top5_features_per_run[0].keys()}\n",
    "\n",
    "    # Iterate through each dictionary in the list\n",
    "    for d in top5_features_per_run:\n",
    "        # For each key in the dictionary, append the value to the corresponding list in the resulting dictionary\n",
    "        for key, value in d.items():\n",
    "            aggregated_top5s[key].append(value)\n",
    "\n",
    "    aggregated_top5s = {key: [np.mean(val), np.std(val)] for key, val in aggregated_top5s.items()}\n",
    "    freqs = sorted(list(aggregated_top5s.items()), key=lambda x:x[1][0], reverse=True)\n",
    "    top_feats, counts = zip(*freqs[:n])\n",
    "    counts = [f\"{int(val[0]+0.5)}({int(val[1]+0.5)})\" for val in counts]\n",
    "    top5_rocaucs = [rocaucs[feat] for feat in top_feats]\n",
    "    top5_modrocaucs = [modrocaucs[feat] for feat in top_feats]\n",
    "    top5_status = [feat_status(feat, important_feats, corr_feats) for feat in top_feats]\n",
    "    return top_feats, counts, top5_rocaucs, top5_modrocaucs, top5_status"
   ]
  },
  {
   "cell_type": "code",
   "execution_count": null,
   "id": "b6dc189b",
   "metadata": {},
   "outputs": [],
   "source": [
    "def fetch_files(files, key, method=None, model=None):\n",
    "    \"\"\"Fetch files that contain a specific keyword.\"\"\"\n",
    "    filtered_files = [file for file in files if key in file.lower() and 'values' not in file.lower()]\n",
    "    if method:\n",
    "        filtered_files = [file for file in filtered_files if method in file.lower()]\n",
    "    if model:\n",
    "        filtered_files = [file for file in filtered_files if model in file.lower()]\n",
    "    return filtered_files\n",
    "\n",
    "\n",
    "def populate_results(files, key, results_dict, fetch_fun):\n",
    "    for method in modelmethods:\n",
    "        for model in models:\n",
    "            ffiles = fetch_files(files, key, method, model)\n",
    "            if ffiles:\n",
    "                results_dict[f\"{method}_{model}\"] = fetch_fun(ffiles[0])\n",
    "    for method in filtermethods:\n",
    "        ffiles = fetch_files(files, key, method)\n",
    "        if ffiles:\n",
    "            results_dict[f\"{method}\"] = fetch_fun(ffiles[0])\n",
    "        \n",
    "\n",
    "def populate_dataframe(files, files_key, results, fetch_function, order, columns):\n",
    "    fetched_files = fetch_files(files, files_key)\n",
    "    populate_results(fetched_files, files_key, results, fetch_function)\n",
    "    \n",
    "    if files_key == 'avblock':\n",
    "        df = pd.DataFrame([(key, *val) for key, val in results.items()], columns=columns)\n",
    "    else:\n",
    "        df = pd.DataFrame([[key, f\"{val[0]}/{val[1]}\", val[2]] for key, val in results.items()], columns=columns)\n",
    "    \n",
    "    df = df.set_index('Method').loc[order].reset_index()\n",
    "    return df"
   ]
  },
  {
   "cell_type": "code",
   "execution_count": null,
   "id": "57283307",
   "metadata": {},
   "outputs": [],
   "source": [
    "def aggregate_scores(vals):\n",
    "    # Separate numerators and denominators\n",
    "    nums = [int(val.split(\"/\")[0]) if type(val) == str  else val for val in vals]\n",
    "    denoms = [int(val.split(\"/\")[1]) if type(val) == str  else val for val in vals]\n",
    "\n",
    "    # Calculate mean and standard deviation for numerators and denominators\n",
    "    mean = np.mean(nums)\n",
    "    std = np.std(nums)\n",
    "    \n",
    "    mean_corr = np.mean(denoms)\n",
    "    std_corr = np.std(denoms)\n",
    "\n",
    "    # Format and return the result\n",
    "    return f'{int(mean)}({int(std)})/{int(mean_corr)}({int(std_corr)})'"
   ]
  },
  {
   "cell_type": "code",
   "execution_count": null,
   "id": "45cc8373",
   "metadata": {},
   "outputs": [],
   "source": [
    "def aggregate_rankings(vals):\n",
    "    # Separate numerators and denominators\n",
    "    first_feature_rankings  = [val[0] for val in vals]\n",
    "    second_feature_rankings = [val[1] for val in vals]\n",
    "\n",
    "    # Calculate mean and standard deviation for numerators and denominators\n",
    "    mean1 = np.mean(first_feature_rankings)\n",
    "    std1 = np.std(first_feature_rankings)\n",
    "    \n",
    "    mean2 = np.mean(second_feature_rankings)\n",
    "    std2 = np.std(second_feature_rankings)\n",
    "\n",
    "    # Format and return the result\n",
    "    return f'{int(mean1)}({int(std1)})/{int(mean2)}({int(std2)})'"
   ]
  },
  {
   "cell_type": "code",
   "execution_count": null,
   "id": "0858faa3",
   "metadata": {},
   "outputs": [],
   "source": [
    "def mean_std(lodfs, key_column, value_column, ranking_column):\n",
    "    zipped_dfs_scores = list(zip(*[d[value_column] for d in lodfs]))\n",
    "    aggregated_scores = np.array([aggregate_scores(vals) for vals in zipped_dfs_scores])\n",
    "    \n",
    "    zipped_dfs_rankings = list(zip(*[d[ranking_column] for d in lodfs]))\n",
    "    aggregated_rankings = np.array([aggregate_rankings(vals) for vals in zipped_dfs_rankings])\n",
    "    \n",
    "    output = lodfs[0][[key_column]].copy()\n",
    "    output[\"Mean(Std) of Experiments\"] = aggregated_scores\n",
    "    output[f\"Mean(Std) of {ranking_column}\"] = aggregated_rankings\n",
    "    return output"
   ]
  },
  {
   "cell_type": "code",
   "execution_count": null,
   "id": "5a0c05df",
   "metadata": {},
   "outputs": [],
   "source": [
    "files = glob.glob(OUTPUT_DIR+'/*.csv')"
   ]
  },
  {
   "cell_type": "code",
   "execution_count": null,
   "id": "d54e343a",
   "metadata": {},
   "outputs": [],
   "source": [
    "models = ['lr', 'dn', 'gp', 'rf', 'xgb']\n",
    "modelmethods = ['implicit', 'shap', 'lime', 'permutation']\n",
    "filtermethods =['modifiedrocauc', 'chisquared', 'relieff', 'nca', 'mrmr']"
   ]
  },
  {
   "cell_type": "code",
   "execution_count": null,
   "id": "a7a29117",
   "metadata": {},
   "outputs": [],
   "source": [
    "order = [\"permutation_rf\", \"shap_rf\", \"lime_rf\", \"implicit_rf\", \"permutation_xgb\", \"shap_xgb\", \"lime_xgb\",\n",
    "         \"permutation_lr\", \"shap_lr\", \"lime_lr\", \"implicit_lr\", \"permutation_dn\", \"shap_dn\", \"lime_dn\",\n",
    "         \"implicit_gp\", \"chisquared\",\"mrmr\", \"nca\", \"relieff\", \"modifiedrocauc\"]"
   ]
  },
  {
   "cell_type": "markdown",
   "id": "906b90ff",
   "metadata": {},
   "source": [
    "### Table V"
   ]
  },
  {
   "cell_type": "code",
   "execution_count": null,
   "id": "7af77ead",
   "metadata": {},
   "outputs": [],
   "source": [
    "tableV_results = {}\n",
    "tableV_fetch_function = lambda x: table_v_fetch(x, AVBLOCK_IMPORTANT_FEATURES, AVBLOCK_NON_DISCRIMINATING_FEATURES)\n",
    "avblock_df_columns = ['Method', 'Ranking of important Features', 'Ranking of non-discriminative Features']\n",
    "avblock_dfs = [populate_dataframe(glob.glob(f'{dirname}/*.csv'), 'avblock', {},\n",
    "                             tableV_fetch_function, order, avblock_df_columns) for dirname in OUTPUT_DIRS]\n",
    "mean_std(avblock_dfs, *avblock_df_columns)"
   ]
  },
  {
   "cell_type": "code",
   "execution_count": null,
   "id": "38f13730",
   "metadata": {},
   "outputs": [],
   "source": [
    "avblockrocaucs = dict(pd.read_csv(AVBLOCK_AUCS_FILE).values)\n",
    "avblockmodrocaucs = dict(pd.read_csv(AVBLOCK_MODAUCS_FILE).values)\n",
    "avblock_top5_features_per_run =[get_top5s(glob.glob(f'{dirname}/*.csv'), \"avblock\", AVBLOCK_IMPORTANT_FEATURES, None, \n",
    "                       avblockrocaucs, avblockmodrocaucs) for dirname in OUTPUT_DIRS]\n",
    "avtop5_features_aggregated, avcounts, avtop5_rocaucs, avtop5_modrocaucs, avtop5_status = \\\n",
    "    get_frequency_of_topn(avblock_top5_features_per_run, AVBLOCK_IMPORTANT_FEATURES, None, avblockrocaucs, avblockmodrocaucs)"
   ]
  },
  {
   "cell_type": "markdown",
   "id": "8f288d2f",
   "metadata": {},
   "source": [
    "### Table VI"
   ]
  },
  {
   "cell_type": "code",
   "execution_count": null,
   "id": "cdf75226",
   "metadata": {},
   "outputs": [],
   "source": [
    "pd.DataFrame(list(zip(avtop5_features_aggregated, avcounts, avtop5_modrocaucs, avtop5_rocaucs)), \n",
    "             columns=['Feature', 'Frequency in Top5', 'Modified ROCAUC', 'ROCAUC'])"
   ]
  },
  {
   "cell_type": "markdown",
   "id": "0fe868ba",
   "metadata": {},
   "source": [
    "### Table VII"
   ]
  },
  {
   "cell_type": "code",
   "execution_count": null,
   "id": "5cfaa31e",
   "metadata": {},
   "outputs": [],
   "source": [
    "tableVII_results = {}\n",
    "tableVII_fetch_function = lambda x: [top5score(x, RBBB_IMPORTANT_FEATURES), \n",
    "                                     top5score(x, RBBB_IMPORTANT_FEATURES_W_CORR),\n",
    "                                     table_v_fetch(x, RBBB_IMPORTANT_FEATURES, RBBB_NON_DISCRIMINATING_FEATURES)[1]]\n",
    "rbbb_df_columns = ['Method', 'Top 5 score imp. / imp. + corr.', 'Ranking of non-discriminative features']\n",
    "rbbb_dfs = [populate_dataframe(glob.glob(f'{dirname}/*.csv'), 'rbbb', {},\n",
    "                             tableVII_fetch_function, order, rbbb_df_columns) for dirname in OUTPUT_DIRS]\n",
    "mean_std(rbbb_dfs, *rbbb_df_columns)"
   ]
  },
  {
   "cell_type": "code",
   "execution_count": null,
   "id": "9c5269d2",
   "metadata": {},
   "outputs": [],
   "source": [
    "rbbbrocaucs = dict(pd.read_csv(RBBB_AUCS_FILE).values)\n",
    "rbbbmodrocaucs = dict(pd.read_csv(RBBB_MODAUCS_FILE).values)\n",
    "rbbb_top5_features_per_run =[get_top5s(glob.glob(f'{dirname}/*.csv'), \"rbbb\", RBBB_IMPORTANT_FEATURES, None, \n",
    "                       rbbbrocaucs, rbbbmodrocaucs) for dirname in OUTPUT_DIRS]\n",
    "rbbbtop5_features_aggregated, rbbbcounts, rbbbtop5_rocaucs, rbbbtop5_modrocaucs, rbbbtop5_status = \\\n",
    "    get_frequency_of_topn(rbbb_top5_features_per_run, RBBB_IMPORTANT_FEATURES, RBBB_IMPORTANT_FEATURES_W_CORR, rbbbrocaucs, rbbbmodrocaucs, n=6)"
   ]
  },
  {
   "cell_type": "markdown",
   "id": "cca19c35",
   "metadata": {},
   "source": [
    "### Table VIII"
   ]
  },
  {
   "cell_type": "code",
   "execution_count": null,
   "id": "9f36009d",
   "metadata": {},
   "outputs": [],
   "source": [
    "pd.DataFrame(list(zip(rbbbtop5_features_aggregated, rbbbcounts, rbbbtop5_status, rbbbtop5_modrocaucs, rbbbtop5_rocaucs)), \n",
    "             columns=['Feature', 'Frequency in Top5', 'Type of feature', 'Modified ROCAUC', 'ROCAUC'])"
   ]
  },
  {
   "cell_type": "markdown",
   "id": "5d93f469",
   "metadata": {},
   "source": [
    "### Table IX"
   ]
  },
  {
   "cell_type": "code",
   "execution_count": null,
   "id": "1b301463",
   "metadata": {
    "scrolled": true
   },
   "outputs": [],
   "source": [
    "tableIX_results = {}\n",
    "tableIX_fetch_function = lambda x: [top5score(x, LBBB_IMPORTANT_FEATURES), \n",
    "                                     top5score(x, LBBB_IMPORTANT_FEATURES_W_CORR),\n",
    "                                     table_v_fetch(x, LBBB_IMPORTANT_FEATURES, LBBB_NON_DISCRIMINATING_FEATURES)[1]]\n",
    "lbbb_df_columns = ['Method', 'Top 5 score imp. / imp. + corr.', 'Ranking of non-discriminative features']\n",
    "lbbb_dfs = [populate_dataframe(glob.glob(f'{dirname}/*.csv'), 'lbbb', {},\n",
    "                             tableIX_fetch_function, order, lbbb_df_columns) for dirname in OUTPUT_DIRS]\n",
    "mean_std(lbbb_dfs, *lbbb_df_columns)"
   ]
  },
  {
   "cell_type": "code",
   "execution_count": null,
   "id": "5822201a",
   "metadata": {},
   "outputs": [],
   "source": [
    "lbbbrocaucs = dict(pd.read_csv(LBBB_AUCS_FILE).values)\n",
    "lbbbmodrocaucs = dict(pd.read_csv(LBBB_MODAUCS_FILE).values)\n",
    "lbbb_top5_features_per_run =[get_top5s(glob.glob(f'{dirname}/*.csv'), \"lbbb\", LBBB_IMPORTANT_FEATURES, None, \n",
    "                       lbbbrocaucs, lbbbmodrocaucs) for dirname in OUTPUT_DIRS]\n",
    "lbbbtop5_features_aggregated, lbbbcounts, lbbbtop5_rocaucs, lbbbtop5_modrocaucs, lbbbtop5_status = \\\n",
    "    get_frequency_of_topn(lbbb_top5_features_per_run, LBBB_IMPORTANT_FEATURES, LBBB_IMPORTANT_FEATURES_W_CORR, lbbbrocaucs, lbbbmodrocaucs)"
   ]
  },
  {
   "cell_type": "markdown",
   "id": "6916ef9d",
   "metadata": {},
   "source": [
    "### Table X"
   ]
  },
  {
   "cell_type": "code",
   "execution_count": null,
   "id": "5d267204",
   "metadata": {},
   "outputs": [],
   "source": [
    "pd.DataFrame(list(zip(lbbbtop5_features_aggregated, lbbbcounts, lbbbtop5_status, lbbbtop5_modrocaucs, lbbbtop5_rocaucs)), \n",
    "             columns=['Feature', 'Frequency in Top5', 'Type of feature', 'Modified ROCAUC', 'ROCAUC'])"
   ]
  },
  {
   "cell_type": "code",
   "execution_count": null,
   "id": "c3b9140a",
   "metadata": {},
   "outputs": [],
   "source": []
  },
  {
   "cell_type": "code",
   "execution_count": null,
   "id": "9f6b53cf",
   "metadata": {},
   "outputs": [],
   "source": []
  },
  {
   "cell_type": "code",
   "execution_count": null,
   "id": "93aa6cc4",
   "metadata": {},
   "outputs": [],
   "source": []
  },
  {
   "cell_type": "code",
   "execution_count": null,
   "id": "f974b6af",
   "metadata": {},
   "outputs": [],
   "source": []
  },
  {
   "cell_type": "code",
   "execution_count": null,
   "id": "25830381",
   "metadata": {},
   "outputs": [],
   "source": []
  },
  {
   "cell_type": "code",
   "execution_count": null,
   "id": "7fd8f30c",
   "metadata": {},
   "outputs": [],
   "source": []
  },
  {
   "cell_type": "code",
   "execution_count": null,
   "id": "f77dbfa8",
   "metadata": {},
   "outputs": [],
   "source": []
  },
  {
   "cell_type": "code",
   "execution_count": null,
   "id": "dfbff9eb",
   "metadata": {},
   "outputs": [],
   "source": []
  },
  {
   "cell_type": "code",
   "execution_count": null,
   "id": "1e5f032e",
   "metadata": {},
   "outputs": [],
   "source": []
  },
  {
   "cell_type": "code",
   "execution_count": null,
   "id": "64a75b8f",
   "metadata": {},
   "outputs": [],
   "source": []
  },
  {
   "cell_type": "code",
   "execution_count": null,
   "id": "49b4c1e5",
   "metadata": {},
   "outputs": [],
   "source": []
  },
  {
   "cell_type": "code",
   "execution_count": null,
   "id": "4baf019f",
   "metadata": {},
   "outputs": [],
   "source": []
  },
  {
   "cell_type": "code",
   "execution_count": null,
   "id": "0b7e1e2a",
   "metadata": {},
   "outputs": [],
   "source": []
  }
 ],
 "metadata": {
  "kernelspec": {
   "display_name": "Python 3 (ipykernel)",
   "language": "python",
   "name": "python3"
  },
  "language_info": {
   "codemirror_mode": {
    "name": "ipython",
    "version": 3
   },
   "file_extension": ".py",
   "mimetype": "text/x-python",
   "name": "python",
   "nbconvert_exporter": "python",
   "pygments_lexer": "ipython3",
   "version": "3.9.12"
  }
 },
 "nbformat": 4,
 "nbformat_minor": 5
}
